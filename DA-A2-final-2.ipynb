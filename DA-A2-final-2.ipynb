{
 "cells": [
  {
   "cell_type": "markdown",
   "metadata": {},
   "source": [
    "# Import packages and CSV file"
   ]
  },
  {
   "cell_type": "code",
   "execution_count": null,
   "outputs": [],
   "source": [
    "print('all good')"
   ],
   "metadata": {
    "collapsed": false,
    "pycharm": {
     "name": "#%%\n"
    }
   }
  },
  {
   "cell_type": "code",
   "execution_count": 4,
   "metadata": {},
   "outputs": [],
   "source": [
    "import numpy as np\n",
    "import pandas as pd\n",
    "import math \n",
    "import seaborn as sns\n",
    "import matplotlib.pyplot as plt\n",
    "from pprint import pprint\n",
    "from scipy.optimize import minimize\n",
    "import pickle\n",
    "pd.set_option('display.max_columns', None)  # or 1000\n",
    "pd.set_option('display.max_rows', 10)"
   ]
  },
  {
   "cell_type": "code",
   "execution_count": 118,
   "metadata": {},
   "outputs": [
    {
     "data": {
      "text/html": [
       "<div>\n",
       "<style scoped>\n",
       "    .dataframe tbody tr th:only-of-type {\n",
       "        vertical-align: middle;\n",
       "    }\n",
       "\n",
       "    .dataframe tbody tr th {\n",
       "        vertical-align: top;\n",
       "    }\n",
       "\n",
       "    .dataframe thead th {\n",
       "        text-align: right;\n",
       "    }\n",
       "</style>\n",
       "<table border=\"1\" class=\"dataframe\">\n",
       "  <thead>\n",
       "    <tr style=\"text-align: right;\">\n",
       "      <th></th>\n",
       "      <th>Match</th>\n",
       "      <th>Date</th>\n",
       "      <th>Innings</th>\n",
       "      <th>Over</th>\n",
       "      <th>Runs</th>\n",
       "      <th>Total.Runs</th>\n",
       "      <th>Innings.Total.Runs</th>\n",
       "      <th>Runs.Remaining</th>\n",
       "      <th>Total.Out</th>\n",
       "      <th>Innings.Total.Out</th>\n",
       "      <th>Outs.Remaining</th>\n",
       "      <th>Wickets.in.Hand</th>\n",
       "      <th>Run.Rate</th>\n",
       "      <th>Innings.Run.Rate</th>\n",
       "      <th>Run.Rate.Required</th>\n",
       "      <th>Initial.Run.Rate.Required</th>\n",
       "      <th>Target.Score</th>\n",
       "      <th>Day-night</th>\n",
       "      <th>At.Bat</th>\n",
       "      <th>Fielding</th>\n",
       "      <th>Home.Team</th>\n",
       "      <th>Away.Team</th>\n",
       "      <th>Stadium</th>\n",
       "      <th>Country</th>\n",
       "      <th>Total.Overs</th>\n",
       "      <th>Winning.Team</th>\n",
       "      <th>Toss.Winner</th>\n",
       "      <th>at.bat.wins</th>\n",
       "      <th>at.bat.won.toss</th>\n",
       "      <th>at.bat.at.home</th>\n",
       "      <th>at.bat.bat.first</th>\n",
       "      <th>chose_bat_1st</th>\n",
       "      <th>chose_bat_2nd</th>\n",
       "      <th>forced_bat_1st</th>\n",
       "      <th>forced_bat_2nd</th>\n",
       "      <th>new.game</th>\n",
       "      <th>Error.In.Data</th>\n",
       "      <th>common.support</th>\n",
       "    </tr>\n",
       "  </thead>\n",
       "  <tbody>\n",
       "    <tr>\n",
       "      <th>0</th>\n",
       "      <td>65193</td>\n",
       "      <td>14/05/1999</td>\n",
       "      <td>1</td>\n",
       "      <td>1</td>\n",
       "      <td>4</td>\n",
       "      <td>4</td>\n",
       "      <td>204</td>\n",
       "      <td>200</td>\n",
       "      <td>0</td>\n",
       "      <td>10</td>\n",
       "      <td>10</td>\n",
       "      <td>10</td>\n",
       "      <td>4.0</td>\n",
       "      <td>4.08</td>\n",
       "      <td>-1.0</td>\n",
       "      <td>-1.0</td>\n",
       "      <td>-1</td>\n",
       "      <td>0</td>\n",
       "      <td>Sri Lanka</td>\n",
       "      <td>England</td>\n",
       "      <td>England</td>\n",
       "      <td>Sri Lanka</td>\n",
       "      <td>Lord's</td>\n",
       "      <td>England</td>\n",
       "      <td>50</td>\n",
       "      <td>England</td>\n",
       "      <td>England</td>\n",
       "      <td>0</td>\n",
       "      <td>0</td>\n",
       "      <td>0</td>\n",
       "      <td>1</td>\n",
       "      <td>0</td>\n",
       "      <td>0</td>\n",
       "      <td>1</td>\n",
       "      <td>0</td>\n",
       "      <td>1</td>\n",
       "      <td>0</td>\n",
       "      <td>1</td>\n",
       "    </tr>\n",
       "    <tr>\n",
       "      <th>1</th>\n",
       "      <td>65193</td>\n",
       "      <td>14/05/1999</td>\n",
       "      <td>1</td>\n",
       "      <td>2</td>\n",
       "      <td>2</td>\n",
       "      <td>6</td>\n",
       "      <td>204</td>\n",
       "      <td>198</td>\n",
       "      <td>0</td>\n",
       "      <td>10</td>\n",
       "      <td>10</td>\n",
       "      <td>10</td>\n",
       "      <td>3.0</td>\n",
       "      <td>4.08</td>\n",
       "      <td>-1.0</td>\n",
       "      <td>-1.0</td>\n",
       "      <td>-1</td>\n",
       "      <td>0</td>\n",
       "      <td>Sri Lanka</td>\n",
       "      <td>England</td>\n",
       "      <td>England</td>\n",
       "      <td>Sri Lanka</td>\n",
       "      <td>Lord's</td>\n",
       "      <td>England</td>\n",
       "      <td>50</td>\n",
       "      <td>England</td>\n",
       "      <td>England</td>\n",
       "      <td>0</td>\n",
       "      <td>0</td>\n",
       "      <td>0</td>\n",
       "      <td>1</td>\n",
       "      <td>0</td>\n",
       "      <td>0</td>\n",
       "      <td>1</td>\n",
       "      <td>0</td>\n",
       "      <td>0</td>\n",
       "      <td>0</td>\n",
       "      <td>1</td>\n",
       "    </tr>\n",
       "    <tr>\n",
       "      <th>2</th>\n",
       "      <td>65193</td>\n",
       "      <td>14/05/1999</td>\n",
       "      <td>1</td>\n",
       "      <td>3</td>\n",
       "      <td>3</td>\n",
       "      <td>9</td>\n",
       "      <td>204</td>\n",
       "      <td>195</td>\n",
       "      <td>0</td>\n",
       "      <td>10</td>\n",
       "      <td>10</td>\n",
       "      <td>10</td>\n",
       "      <td>3.0</td>\n",
       "      <td>4.08</td>\n",
       "      <td>-1.0</td>\n",
       "      <td>-1.0</td>\n",
       "      <td>-1</td>\n",
       "      <td>0</td>\n",
       "      <td>Sri Lanka</td>\n",
       "      <td>England</td>\n",
       "      <td>England</td>\n",
       "      <td>Sri Lanka</td>\n",
       "      <td>Lord's</td>\n",
       "      <td>England</td>\n",
       "      <td>50</td>\n",
       "      <td>England</td>\n",
       "      <td>England</td>\n",
       "      <td>0</td>\n",
       "      <td>0</td>\n",
       "      <td>0</td>\n",
       "      <td>1</td>\n",
       "      <td>0</td>\n",
       "      <td>0</td>\n",
       "      <td>1</td>\n",
       "      <td>0</td>\n",
       "      <td>0</td>\n",
       "      <td>0</td>\n",
       "      <td>1</td>\n",
       "    </tr>\n",
       "    <tr>\n",
       "      <th>3</th>\n",
       "      <td>65193</td>\n",
       "      <td>14/05/1999</td>\n",
       "      <td>1</td>\n",
       "      <td>4</td>\n",
       "      <td>2</td>\n",
       "      <td>20</td>\n",
       "      <td>204</td>\n",
       "      <td>184</td>\n",
       "      <td>0</td>\n",
       "      <td>10</td>\n",
       "      <td>10</td>\n",
       "      <td>10</td>\n",
       "      <td>5.0</td>\n",
       "      <td>4.08</td>\n",
       "      <td>-1.0</td>\n",
       "      <td>-1.0</td>\n",
       "      <td>-1</td>\n",
       "      <td>0</td>\n",
       "      <td>Sri Lanka</td>\n",
       "      <td>England</td>\n",
       "      <td>England</td>\n",
       "      <td>Sri Lanka</td>\n",
       "      <td>Lord's</td>\n",
       "      <td>England</td>\n",
       "      <td>50</td>\n",
       "      <td>England</td>\n",
       "      <td>England</td>\n",
       "      <td>0</td>\n",
       "      <td>0</td>\n",
       "      <td>0</td>\n",
       "      <td>1</td>\n",
       "      <td>0</td>\n",
       "      <td>0</td>\n",
       "      <td>1</td>\n",
       "      <td>0</td>\n",
       "      <td>0</td>\n",
       "      <td>0</td>\n",
       "      <td>1</td>\n",
       "    </tr>\n",
       "    <tr>\n",
       "      <th>4</th>\n",
       "      <td>65193</td>\n",
       "      <td>14/05/1999</td>\n",
       "      <td>1</td>\n",
       "      <td>5</td>\n",
       "      <td>6</td>\n",
       "      <td>37</td>\n",
       "      <td>204</td>\n",
       "      <td>167</td>\n",
       "      <td>0</td>\n",
       "      <td>10</td>\n",
       "      <td>10</td>\n",
       "      <td>10</td>\n",
       "      <td>7.4</td>\n",
       "      <td>4.08</td>\n",
       "      <td>-1.0</td>\n",
       "      <td>-1.0</td>\n",
       "      <td>-1</td>\n",
       "      <td>0</td>\n",
       "      <td>Sri Lanka</td>\n",
       "      <td>England</td>\n",
       "      <td>England</td>\n",
       "      <td>Sri Lanka</td>\n",
       "      <td>Lord's</td>\n",
       "      <td>England</td>\n",
       "      <td>50</td>\n",
       "      <td>England</td>\n",
       "      <td>England</td>\n",
       "      <td>0</td>\n",
       "      <td>0</td>\n",
       "      <td>0</td>\n",
       "      <td>1</td>\n",
       "      <td>0</td>\n",
       "      <td>0</td>\n",
       "      <td>1</td>\n",
       "      <td>0</td>\n",
       "      <td>0</td>\n",
       "      <td>0</td>\n",
       "      <td>1</td>\n",
       "    </tr>\n",
       "  </tbody>\n",
       "</table>\n",
       "</div>"
      ],
      "text/plain": [
       "   Match        Date  Innings  Over  Runs  Total.Runs  Innings.Total.Runs  \\\n",
       "0  65193  14/05/1999        1     1     4           4                 204   \n",
       "1  65193  14/05/1999        1     2     2           6                 204   \n",
       "2  65193  14/05/1999        1     3     3           9                 204   \n",
       "3  65193  14/05/1999        1     4     2          20                 204   \n",
       "4  65193  14/05/1999        1     5     6          37                 204   \n",
       "\n",
       "   Runs.Remaining  Total.Out  Innings.Total.Out  Outs.Remaining  \\\n",
       "0             200          0                 10              10   \n",
       "1             198          0                 10              10   \n",
       "2             195          0                 10              10   \n",
       "3             184          0                 10              10   \n",
       "4             167          0                 10              10   \n",
       "\n",
       "   Wickets.in.Hand  Run.Rate  Innings.Run.Rate  Run.Rate.Required  \\\n",
       "0               10       4.0              4.08               -1.0   \n",
       "1               10       3.0              4.08               -1.0   \n",
       "2               10       3.0              4.08               -1.0   \n",
       "3               10       5.0              4.08               -1.0   \n",
       "4               10       7.4              4.08               -1.0   \n",
       "\n",
       "   Initial.Run.Rate.Required  Target.Score  Day-night     At.Bat Fielding  \\\n",
       "0                       -1.0            -1          0  Sri Lanka  England   \n",
       "1                       -1.0            -1          0  Sri Lanka  England   \n",
       "2                       -1.0            -1          0  Sri Lanka  England   \n",
       "3                       -1.0            -1          0  Sri Lanka  England   \n",
       "4                       -1.0            -1          0  Sri Lanka  England   \n",
       "\n",
       "  Home.Team  Away.Team Stadium  Country  Total.Overs Winning.Team Toss.Winner  \\\n",
       "0   England  Sri Lanka  Lord's  England           50      England     England   \n",
       "1   England  Sri Lanka  Lord's  England           50      England     England   \n",
       "2   England  Sri Lanka  Lord's  England           50      England     England   \n",
       "3   England  Sri Lanka  Lord's  England           50      England     England   \n",
       "4   England  Sri Lanka  Lord's  England           50      England     England   \n",
       "\n",
       "   at.bat.wins  at.bat.won.toss  at.bat.at.home  at.bat.bat.first  \\\n",
       "0            0                0               0                 1   \n",
       "1            0                0               0                 1   \n",
       "2            0                0               0                 1   \n",
       "3            0                0               0                 1   \n",
       "4            0                0               0                 1   \n",
       "\n",
       "   chose_bat_1st  chose_bat_2nd  forced_bat_1st  forced_bat_2nd  new.game  \\\n",
       "0              0              0               1               0         1   \n",
       "1              0              0               1               0         0   \n",
       "2              0              0               1               0         0   \n",
       "3              0              0               1               0         0   \n",
       "4              0              0               1               0         0   \n",
       "\n",
       "   Error.In.Data  common.support  \n",
       "0              0               1  \n",
       "1              0               1  \n",
       "2              0               1  \n",
       "3              0               1  \n",
       "4              0               1  "
      ]
     },
     "execution_count": 118,
     "metadata": {},
     "output_type": "execute_result"
    }
   ],
   "source": [
    "data = pd.read_csv('cricket.csv')\n",
    "data.head()"
   ]
  },
  {
   "cell_type": "code",
   "execution_count": 119,
   "metadata": {},
   "outputs": [],
   "source": [
    "with open('Removed.pkl', 'rb') as f:\n",
    "    matches_to_remove = pickle.load(f)"
   ]
  },
  {
   "cell_type": "code",
   "execution_count": 110,
   "metadata": {},
   "outputs": [
    {
     "data": {
      "text/plain": [
       "130"
      ]
     },
     "execution_count": 110,
     "metadata": {},
     "output_type": "execute_result"
    }
   ],
   "source": [
    "matches_to_remove = list(set(matches_to_remove))\n",
    "len(matches_to_remove)"
   ]
  },
  {
   "cell_type": "markdown",
   "metadata": {},
   "source": [
    "# Remove affected matches"
   ]
  },
  {
   "cell_type": "code",
   "execution_count": 37,
   "metadata": {},
   "outputs": [
    {
     "data": {
      "text/plain": [
       "(126768, 38)"
      ]
     },
     "execution_count": 37,
     "metadata": {},
     "output_type": "execute_result"
    }
   ],
   "source": [
    "data.shape"
   ]
  },
  {
   "cell_type": "code",
   "execution_count": 120,
   "metadata": {},
   "outputs": [],
   "source": [
    "data = data[~(data.Match.isin(matches_to_remove))]"
   ]
  },
  {
   "cell_type": "code",
   "execution_count": 98,
   "metadata": {},
   "outputs": [
    {
     "data": {
      "text/plain": [
       "(123394, 38)"
      ]
     },
     "execution_count": 98,
     "metadata": {},
     "output_type": "execute_result"
    }
   ],
   "source": [
    "data.shape"
   ]
  },
  {
   "cell_type": "markdown",
   "metadata": {},
   "source": [
    "# Data Preparation"
   ]
  },
  {
   "cell_type": "code",
   "execution_count": 121,
   "metadata": {},
   "outputs": [],
   "source": [
    "# data cleaning\n",
    "data_first = data[data.Innings == 1].copy()\n",
    "\n",
    "df1 = data_first[['Match', 'Over', 'Total.Runs', 'Innings.Total.Runs', 'Runs.Remaining', 'Wickets.in.Hand']].copy()\n",
    "df1['Total.Overs'] = 50\n",
    "df1['Overs.Remaining'] = df1['Total.Overs'] - df1['Over']\n",
    "df1 = df1[['Match', 'Overs.Remaining', 'Runs.Remaining', 'Wickets.in.Hand']]\n",
    "\n",
    "df2 = data_first[['Match', 'Over', 'Total.Runs', 'Innings.Total.Runs', 'Runs.Remaining', 'Wickets.in.Hand']].copy()\n",
    "df2['Total.Overs'] = 50\n",
    "df2 = df2.groupby('Match').first().reset_index()\n",
    "df2['Wickets.in.Hand'] = 10\n",
    "df2 = df2[['Match', 'Total.Overs', 'Innings.Total.Runs', 'Wickets.in.Hand']]\n",
    "df2.columns = ['Match', 'Overs.Remaining', 'Runs.Remaining', 'Wickets.in.Hand']\n",
    "\n",
    "df = pd.concat([df2, df1], axis = 0)\n",
    "df.sort_values(['Match', 'Overs.Remaining'], ascending = [True, False], inplace = True)\n",
    "df = df[['Overs.Remaining', 'Wickets.in.Hand', 'Runs.Remaining']]\n",
    "df.columns = ['u', 'w', 'y']\n",
    "\n",
    "X = df.copy()"
   ]
  },
  {
   "cell_type": "code",
   "execution_count": 122,
   "metadata": {},
   "outputs": [
    {
     "name": "stdout",
     "output_type": "stream",
     "text": [
      "Z0(10) = 243.5877803557618\n",
      "Z0(9) = 207.46249033255995\n",
      "Z0(8) = 170.13302397525135\n",
      "Z0(7) = 132.74863813229572\n",
      "Z0(6) = 97.11968503937008\n",
      "Z0(5) = 66.92610837438424\n",
      "Z0(4) = 43.78776978417266\n",
      "Z0(3) = 27.65240083507307\n",
      "Z0(2) = 15.0390625\n",
      "Z0(1) = 6.704545454545454\n",
      "Z0(0) = 0.0\n"
     ]
    }
   ],
   "source": [
    "# Compute Z0\n",
    "Z = dict()\n",
    "\n",
    "def computeZ0(w: int, data_first: pd.core.frame.DataFrame):\n",
    "    if w == 10:\n",
    "        return data_first.groupby('Match').first()['Innings.Total.Runs'].mean()\n",
    "    else:\n",
    "        return data_first[data_first['Wickets.in.Hand'] <= w].groupby('Match').first()['Runs.Remaining'].mean()\n",
    "    \n",
    "for w in range(10, -1, -1):\n",
    "    Z[w] = computeZ0(w, data_first)\n",
    "    print('Z0({}) = {}'.format(w, computeZ0(w, data_first)))"
   ]
  },
  {
   "cell_type": "code",
   "execution_count": 123,
   "metadata": {},
   "outputs": [
    {
     "name": "stdout",
     "output_type": "stream",
     "text": [
      "b[10] = 0.06611616634609575\n",
      "b[9] = 0.07260429876804946\n",
      "b[8] = 0.09384762962121189\n",
      "b[7] = 0.11955680306336565\n",
      "b[6] = 0.17956804660675224\n",
      "b[5] = 0.26192032385237196\n",
      "b[4] = 0.4180252792257524\n",
      "b[3] = 0.6752228145373727\n",
      "b[2] = 1.0612850205673425\n",
      "b[1] = 3.3210806523042575\n",
      "b[0] = 0.0\n"
     ]
    }
   ],
   "source": [
    "# Question 1\n",
    "def fn(b):\n",
    "#     global X\n",
    "    t = X.copy()\n",
    "    losses = t.apply(lambda row: (row['y'] - Z[row['w']] * (1 - np.exp(-b * row['u']))) ** 2, axis = 1)\n",
    "    loss = losses.sum() / len(t)\n",
    "#     print(loss)\n",
    "    return loss\n",
    "\n",
    "B = dict()\n",
    "X_backup = X.copy()\n",
    "for w in range(10, -1, -1):\n",
    "    X = df[df.w == w].copy()\n",
    "    result = minimize(fn, 0, method = 'L-BFGS-B')\n",
    "    B[w] = result.x[0]\n",
    "    print('b[{}] = {}'.format(w, B[w]))\n"
   ]
  },
  {
   "cell_type": "code",
   "execution_count": 17,
   "metadata": {
    "collapsed": true
   },
   "outputs": [
    {
     "data": {
      "text/plain": [
       "{10: 0.07027896359882138,\n",
       " 9: 0.07602349003782383,\n",
       " 8: 0.09677089137834577,\n",
       " 7: 0.1238074923390248,\n",
       " 6: 0.18294400406098418,\n",
       " 5: 0.2634104522344032,\n",
       " 4: 0.41481921000379074,\n",
       " 3: 0.664027169062772,\n",
       " 2: 1.0235983232260188,\n",
       " 1: 3.388560674061263,\n",
       " 0: 0.9999999999999999}"
      ]
     },
     "execution_count": 17,
     "metadata": {},
     "output_type": "execute_result"
    }
   ],
   "source": [
    "B"
   ]
  },
  {
   "cell_type": "code",
   "execution_count": 124,
   "metadata": {},
   "outputs": [
    {
     "name": "stdout",
     "output_type": "stream",
     "text": [
      "1708.2813722315077\n"
     ]
    }
   ],
   "source": [
    "# compute MSE for Question 1\n",
    "losses = df.apply(lambda row: (row['y'] - Z[row['w']] * (1 - np.exp(-B[row['w']] * row['u']))) ** 2, axis = 1)\n",
    "loss = losses.sum() / len(df)\n",
    "print(loss)"
   ]
  },
  {
   "cell_type": "code",
   "execution_count": 127,
   "metadata": {},
   "outputs": [
    {
     "name": "stdout",
     "output_type": "stream",
     "text": [
      "L =  15.8965580133249\n"
     ]
    }
   ],
   "source": [
    "# Question 2\n",
    "X = df[df.w > 0].copy()\n",
    "\n",
    "def fn(L):\n",
    "    global X\n",
    "    t = X.copy()\n",
    "    losses = t.apply(lambda row: (row['y'] - Z[row['w']] * (1 - np.exp(-L * row['u'] / Z[row['w']]))) ** 2, axis = 1)\n",
    "    loss = losses.sum() / len(t)\n",
    "    print(loss)\n",
    "    return loss\n",
    "\n",
    "res = minimize(fn, 0.35, method = 'L-BFGS-B')\n",
    "L = res.x[0]\n",
    "print('L = ', L)"
   ]
  },
  {
   "cell_type": "code",
   "execution_count": 128,
   "metadata": {
    "scrolled": true
   },
   "outputs": [
    {
     "name": "stdout",
     "output_type": "stream",
     "text": [
      "1719.3917052731285\n"
     ]
    }
   ],
   "source": [
    "# compute MSE for Question 2\n",
    "losses = X.apply(lambda row: (row['y'] - Z[row['w']] * (1 - np.exp(-L * row['u'] / Z[row['w']]))) ** 2, axis = 1)\n",
    "loss = losses.sum() / len(X)\n",
    "print(loss)"
   ]
  },
  {
   "cell_type": "code",
   "execution_count": 63,
   "metadata": {},
   "outputs": [
    {
     "name": "stdout",
     "output_type": "stream",
     "text": [
      "b[10] = 0.07104365371507507, L/Z0[10] = 0.0014737299971593599\n",
      "b[9] = 0.07607912916603857, L/Z0[9] = 0.001732462319248924\n",
      "b[8] = 0.09708601254569339, L/Z0[8] = 0.002113555291319857\n",
      "b[7] = 0.12513408370263018, L/Z0[7] = 0.0027063632781717884\n",
      "b[6] = 0.18561537581855722, L/Z0[6] = 0.003679244572624794\n",
      "b[5] = 0.2669622248098945, L/Z0[5] = 0.005294277251452732\n",
      "b[4] = 0.4216774118121888, L/Z0[4] = 0.008036988358993616\n",
      "b[3] = 0.6766743404497069, L/Z0[3] = 0.01263095238095238\n",
      "b[2] = 1.0403517297635705, L/Z0[2] = 0.023034833538840935\n",
      "b[1] = 3.361093113851824, L/Z0[1] = 0.05213971778857275\n"
     ]
    }
   ],
   "source": [
    "for w in range(10, 0, -1):\n",
    "    print('b[{}] = {}, L/Z0[{}] = {}'.format(w, B[w], w, L/Z[w]))"
   ]
  },
  {
   "cell_type": "code",
   "execution_count": 125,
   "metadata": {},
   "outputs": [
    {
     "data": {
      "text/html": [
       "<div>\n",
       "<style scoped>\n",
       "    .dataframe tbody tr th:only-of-type {\n",
       "        vertical-align: middle;\n",
       "    }\n",
       "\n",
       "    .dataframe tbody tr th {\n",
       "        vertical-align: top;\n",
       "    }\n",
       "\n",
       "    .dataframe thead th {\n",
       "        text-align: right;\n",
       "    }\n",
       "</style>\n",
       "<table border=\"1\" class=\"dataframe\">\n",
       "  <thead>\n",
       "    <tr style=\"text-align: right;\">\n",
       "      <th></th>\n",
       "      <th>u</th>\n",
       "      <th>w</th>\n",
       "      <th>y</th>\n",
       "    </tr>\n",
       "  </thead>\n",
       "  <tbody>\n",
       "    <tr>\n",
       "      <th>0</th>\n",
       "      <td>50</td>\n",
       "      <td>10</td>\n",
       "      <td>363</td>\n",
       "    </tr>\n",
       "    <tr>\n",
       "      <th>6107</th>\n",
       "      <td>49</td>\n",
       "      <td>10</td>\n",
       "      <td>359</td>\n",
       "    </tr>\n",
       "    <tr>\n",
       "      <th>6108</th>\n",
       "      <td>48</td>\n",
       "      <td>10</td>\n",
       "      <td>351</td>\n",
       "    </tr>\n",
       "    <tr>\n",
       "      <th>6109</th>\n",
       "      <td>47</td>\n",
       "      <td>10</td>\n",
       "      <td>347</td>\n",
       "    </tr>\n",
       "    <tr>\n",
       "      <th>6110</th>\n",
       "      <td>46</td>\n",
       "      <td>10</td>\n",
       "      <td>330</td>\n",
       "    </tr>\n",
       "    <tr>\n",
       "      <th>...</th>\n",
       "      <td>...</td>\n",
       "      <td>...</td>\n",
       "      <td>...</td>\n",
       "    </tr>\n",
       "    <tr>\n",
       "      <th>126532</th>\n",
       "      <td>8</td>\n",
       "      <td>4</td>\n",
       "      <td>15</td>\n",
       "    </tr>\n",
       "    <tr>\n",
       "      <th>126533</th>\n",
       "      <td>7</td>\n",
       "      <td>3</td>\n",
       "      <td>12</td>\n",
       "    </tr>\n",
       "    <tr>\n",
       "      <th>126534</th>\n",
       "      <td>6</td>\n",
       "      <td>3</td>\n",
       "      <td>7</td>\n",
       "    </tr>\n",
       "    <tr>\n",
       "      <th>126535</th>\n",
       "      <td>5</td>\n",
       "      <td>1</td>\n",
       "      <td>3</td>\n",
       "    </tr>\n",
       "    <tr>\n",
       "      <th>126536</th>\n",
       "      <td>4</td>\n",
       "      <td>1</td>\n",
       "      <td>0</td>\n",
       "    </tr>\n",
       "  </tbody>\n",
       "</table>\n",
       "<p>64122 rows × 3 columns</p>\n",
       "</div>"
      ],
      "text/plain": [
       "         u   w    y\n",
       "0       50  10  363\n",
       "6107    49  10  359\n",
       "6108    48  10  351\n",
       "6109    47  10  347\n",
       "6110    46  10  330\n",
       "...     ..  ..  ...\n",
       "126532   8   4   15\n",
       "126533   7   3   12\n",
       "126534   6   3    7\n",
       "126535   5   1    3\n",
       "126536   4   1    0\n",
       "\n",
       "[64122 rows x 3 columns]"
      ]
     },
     "execution_count": 125,
     "metadata": {},
     "output_type": "execute_result"
    }
   ],
   "source": [
    "df"
   ]
  },
  {
   "cell_type": "markdown",
   "metadata": {},
   "source": [
    "# Plots"
   ]
  },
  {
   "cell_type": "code",
   "execution_count": 130,
   "metadata": {},
   "outputs": [
    {
     "data": {
      "text/plain": [
       "{10: 0.06611616634609575,\n",
       " 9: 0.07260429876804946,\n",
       " 8: 0.09384762962121189,\n",
       " 7: 0.11955680306336565,\n",
       " 6: 0.17956804660675224,\n",
       " 5: 0.26192032385237196,\n",
       " 4: 0.4180252792257524,\n",
       " 3: 0.6752228145373727,\n",
       " 2: 1.0612850205673425,\n",
       " 1: 3.3210806523042575,\n",
       " 0: 0.0}"
      ]
     },
     "execution_count": 130,
     "metadata": {},
     "output_type": "execute_result"
    }
   ],
   "source": [
    "B"
   ]
  },
  {
   "cell_type": "code",
   "execution_count": 131,
   "metadata": {},
   "outputs": [
    {
     "data": {
      "text/plain": [
       "{10: 243.5877803557618,\n",
       " 9: 207.46249033255995,\n",
       " 8: 170.13302397525135,\n",
       " 7: 132.74863813229572,\n",
       " 6: 97.11968503937008,\n",
       " 5: 66.92610837438424,\n",
       " 4: 43.78776978417266,\n",
       " 3: 27.65240083507307,\n",
       " 2: 15.0390625,\n",
       " 1: 6.704545454545454,\n",
       " 0: 0.0}"
      ]
     },
     "execution_count": 131,
     "metadata": {},
     "output_type": "execute_result"
    }
   ],
   "source": [
    "Z"
   ]
  },
  {
   "cell_type": "code",
   "execution_count": 132,
   "metadata": {},
   "outputs": [
    {
     "data": {
      "text/plain": [
       "15.8965580133249"
      ]
     },
     "execution_count": 132,
     "metadata": {},
     "output_type": "execute_result"
    }
   ],
   "source": [
    "L"
   ]
  },
  {
   "cell_type": "code",
   "execution_count": 160,
   "metadata": {},
   "outputs": [
    {
     "data": {
      "image/png": "[encoded data removed]",
      "text/plain": [
       "<Figure size 936x648 with 1 Axes>"
      ]
     },
     "metadata": {
      "needs_background": "light"
     },
     "output_type": "display_data"
    }
   ],
   "source": [
    "# Plot Question-1 curves \n",
    "plt.figure(figsize = (13,9))\n",
    "for w in range(10, 0, -1):\n",
    "    x = np.linspace(0,51,100)\n",
    "    fx = Z[w] * (1 - np.exp(-B[w] * x))\n",
    "    plt.plot(x, fx, label = 'w = {}'.format(w))\n",
    "\n",
    "x = np.linspace(0, 51, 100)\n",
    "slope = Z[10] * (1 - np.exp(-B[10] * 50)) / 51\n",
    "fx = slope * x\n",
    "plt.plot(x, fx, label = 'straight line')    \n",
    "    \n",
    "plt.legend(loc=\"upper left\")\n",
    "plt.suptitle('Question-1: Run production function', fontsize = 'xx-large')\n",
    "plt.xlabel('Overs Remaining', fontsize = 'x-large')\n",
    "plt.ylabel('Average runs obtainable', fontsize = 'x-large')\n",
    "plt.show()"
   ]
  },
  {
   "cell_type": "code",
   "execution_count": 159,
   "metadata": {},
   "outputs": [
    {
     "data": {
      "image/png": "[encoded data removed]",
      "text/plain": [
       "<Figure size 936x648 with 1 Axes>"
      ]
     },
     "metadata": {
      "needs_background": "light"
     },
     "output_type": "display_data"
    }
   ],
   "source": [
    "# Plot Question-2 curves \n",
    "plt.figure(figsize = (13,9))\n",
    "for w in range(10, 0, -1):\n",
    "    x = np.linspace(0,51,100)\n",
    "    fx = Z[w] * (1 - np.exp(-L * x / Z[w]))\n",
    "    plt.plot(x, fx, label = 'w = {}'.format(w))\n",
    "    \n",
    "# plotting a straight line for reference\n",
    "x = np.linspace(0, 51, 100)\n",
    "slope = Z[10] * (1 - np.exp(-L * 50 / Z[10])) / 51\n",
    "fx = slope * x\n",
    "plt.plot(x, fx, label = 'straight line')\n",
    "\n",
    "plt.legend(loc=\"upper left\")\n",
    "plt.suptitle('Question-2: Run production function', fontsize = 'xx-large')\n",
    "plt.xlabel('Overs Remaining', fontsize = 'x-large')\n",
    "plt.ylabel('Average runs obtainable', fontsize = 'x-large')\n",
    "plt.show()"
   ]
  },
  {
   "cell_type": "markdown",
   "metadata": {},
   "source": [
    "# Compute Slopes at u = 0"
   ]
  },
  {
   "cell_type": "code",
   "execution_count": 148,
   "metadata": {},
   "outputs": [
    {
     "name": "stdout",
     "output_type": "stream",
     "text": [
      "slope at w = 1: 22.27\n",
      "slope at w = 2: 15.96\n",
      "slope at w = 3: 18.67\n",
      "slope at w = 4: 18.3\n",
      "slope at w = 5: 17.53\n",
      "slope at w = 6: 17.44\n",
      "slope at w = 7: 15.87\n",
      "slope at w = 8: 15.97\n",
      "slope at w = 9: 15.06\n",
      "slope at w = 10: 16.11\n"
     ]
    }
   ],
   "source": [
    "# Question 1\n",
    "for w in range(1, 11):\n",
    "    # for w wickets, compute slope at u = 0\n",
    "    slope = Z[w] * B[w]\n",
    "    print('slope at w = {}: {}'.format(w, round(slope, 2)))"
   ]
  },
  {
   "cell_type": "code",
   "execution_count": 161,
   "metadata": {},
   "outputs": [
    {
     "name": "stdout",
     "output_type": "stream",
     "text": [
      "slope at w = 1: 15.8965580133249\n",
      "slope at w = 2: 15.8965580133249\n",
      "slope at w = 3: 15.8965580133249\n",
      "slope at w = 4: 15.8965580133249\n",
      "slope at w = 5: 15.8965580133249\n",
      "slope at w = 6: 15.8965580133249\n",
      "slope at w = 7: 15.8965580133249\n",
      "slope at w = 8: 15.8965580133249\n",
      "slope at w = 9: 15.8965580133249\n",
      "slope at w = 10: 15.8965580133249\n"
     ]
    }
   ],
   "source": [
    "# Question 2\n",
    "for w in range(1, 11):\n",
    "    # for w wickets, compute slope at u = 0\n",
    "    slope = L\n",
    "    print('slope at w = {}: {}'.format(w, slope))"
   ]
  }
 ],
 "metadata": {
  "kernelspec": {
   "display_name": "Python 3",
   "language": "python",
   "name": "python3"
  },
  "language_info": {
   "codemirror_mode": {
    "name": "ipython",
    "version": 3
   },
   "file_extension": ".py",
   "mimetype": "text/x-python",
   "name": "python",
   "nbconvert_exporter": "python",
   "pygments_lexer": "ipython3",
   "version": "3.8.5"
  }
 },
 "nbformat": 4,
 "nbformat_minor": 4
}